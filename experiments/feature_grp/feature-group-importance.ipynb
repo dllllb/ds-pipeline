{
  "cells": [
    {
      "cell_type": "code",
      "source": [
        "import pandas as pd\n",
        "import numpy as np\n",
        "import matplotlib.pyplot as plt\n",
        "from scipy.spatial import distance\n",
        "from scipy.cluster import hierarchy\n",
        "from sklearn.ensemble import RandomForestClassifier\n",
        "from sklearn.model_selection import cross_val_score\n",
        "%matplotlib inline"
      ],
      "outputs": [],
      "execution_count": 14,
      "metadata": {}
    },
    {
      "cell_type": "code",
      "source": [
        "df = pd.read_csv('titanic.csv')\n",
        "target = df.survived\n",
        "df = df.drop(['survived', 'alive'], axis=1)\n",
        "df = df.replace(r'\\s+', np.nan, regex=True)\n",
        "df = pd.get_dummies(df)\n",
        "df = df.fillna(df.mean())"
      ],
      "outputs": [],
      "execution_count": 2,
      "metadata": {}
    },
    {
      "cell_type": "code",
      "source": [
        "cm = df.corr()"
      ],
      "outputs": [],
      "execution_count": 3,
      "metadata": {
        "scrolled": false
      }
    },
    {
      "cell_type": "code",
      "source": [
        "li = hierarchy.linkage(distance.squareform(1-np.abs(cm)))"
      ],
      "outputs": [],
      "execution_count": 4,
      "metadata": {}
    },
    {
      "cell_type": "code",
      "source": [
        "hierarchy.dendrogram(\n",
        "    li,\n",
        "    truncate_mode='lastp',\n",
        "    p=24,\n",
        "    leaf_rotation=90.,\n",
        "    leaf_font_size=12.,\n",
        "    show_contracted=True,\n",
        "    labels=cm.columns,\n",
        "    count_sort=True,\n",
        "    color_threshold=.6\n",
        ")\n",
        "plt.axhline(y=.2, c='k')\n",
        "None"
      ],
      "outputs": [
        {
          "output_type": "display_data",
          "data": {
            "image/png": "[encoded data removed]",
            "text/plain": [
              "<matplotlib.figure.Figure at 0x104e55ef0>"
            ]
          },
          "metadata": {}
        }
      ],
      "execution_count": 5,
      "metadata": {}
    },
    {
      "cell_type": "code",
      "source": [
        "clust = hierarchy.fcluster(li, t=.3, criterion='distance')\n",
        "f_clusters = pd.Series(clust, index=cm.columns).sort_values()\n",
        "f_clusters"
      ],
      "outputs": [
        {
          "output_type": "execute_result",
          "execution_count": 6,
          "data": {
            "text/plain": [
              "embark_town_Queenstown      1\n",
              "embarked_Q                  1\n",
              "embark_town_Southampton     2\n",
              "embark_town_Cherbourg       2\n",
              "embarked_S                  2\n",
              "embarked_C                  2\n",
              "class_Third                 3\n",
              "class_First                 3\n",
              "pclass                      3\n",
              "fare                        4\n",
              "class_Second                5\n",
              "deck_C                      6\n",
              "deck_B                      7\n",
              "age                         8\n",
              "who_child                   9\n",
              "sex_male                   10\n",
              "who_woman                  10\n",
              "sex_female                 10\n",
              "adult_male                 10\n",
              "who_man                    10\n",
              "sibsp                      11\n",
              "alone                      12\n",
              "parch                      13\n",
              "deck_D                     14\n",
              "deck_E                     15\n",
              "deck_A                     16\n",
              "deck_F                     17\n",
              "deck_G                     18\n",
              "dtype: int32"
            ]
          },
          "metadata": {}
        }
      ],
      "execution_count": 6,
      "metadata": {}
    },
    {
      "cell_type": "code",
      "source": [
        "cl = RandomForestClassifier(n_estimators=300, max_depth=4, max_features=.5, random_state=2)\n",
        "cl.fit(df, target)\n",
        "f_weights = pd.Series(cl.feature_importances_, index=df.columns)"
      ],
      "outputs": [],
      "execution_count": 7,
      "metadata": {
        "collapsed": true
      }
    },
    {
      "cell_type": "code",
      "source": [
        "not_clustered = f_weights.index[~f_weights.index.isin(f_clusters.index)]\n",
        "nc_cluster_names = ['nc' + str(n) for n in range(len(not_clustered))]\n",
        "not_clustered_clusters = pd.Series(nc_cluster_names, index=not_clustered, name='cluster')\n",
        "f_clusters_full = f_clusters.astype(str).append(not_clustered_clusters)\n",
        "\n",
        "fic = pd.DataFrame({'cluster': f_clusters_full, 'weight': f_weights})\n",
        "cluster_means = fic.groupby('cluster')['weight'].mean().rename('mean_weight')\n",
        "ficm = fic.join(\n",
        "    cluster_means, on='cluster'\n",
        ").sort_values(['mean_weight', 'cluster'], ascending=False)\n",
        "ficm = ficm.reset_index().set_index(['cluster', 'index'])\n",
        "ficm"
      ],
      "outputs": [
        {
          "output_type": "execute_result",
          "execution_count": 8,
          "data": {
            "text/html": [
              "<div>\n",
              "<style scoped>\n",
              "    .dataframe tbody tr th:only-of-type {\n",
              "        vertical-align: middle;\n",
              "    }\n",
              "\n",
              "    .dataframe tbody tr th {\n",
              "        vertical-align: top;\n",
              "    }\n",
              "\n",
              "    .dataframe thead th {\n",
              "        text-align: right;\n",
              "    }\n",
              "</style>\n",
              "<table border=\"1\" class=\"dataframe\">\n",
              "  <thead>\n",
              "    <tr style=\"text-align: right;\">\n",
              "      <th></th>\n",
              "      <th></th>\n",
              "      <th>weight</th>\n",
              "      <th>mean_weight</th>\n",
              "    </tr>\n",
              "    <tr>\n",
              "      <th>cluster</th>\n",
              "      <th>index</th>\n",
              "      <th></th>\n",
              "      <th></th>\n",
              "    </tr>\n",
              "  </thead>\n",
              "  <tbody>\n",
              "    <tr>\n",
              "      <th rowspan=\"5\" valign=\"top\">10</th>\n",
              "      <th>adult_male</th>\n",
              "      <td>0.212415</td>\n",
              "      <td>0.118838</td>\n",
              "    </tr>\n",
              "    <tr>\n",
              "      <th>sex_female</th>\n",
              "      <td>0.090387</td>\n",
              "      <td>0.118838</td>\n",
              "    </tr>\n",
              "    <tr>\n",
              "      <th>sex_male</th>\n",
              "      <td>0.102830</td>\n",
              "      <td>0.118838</td>\n",
              "    </tr>\n",
              "    <tr>\n",
              "      <th>who_man</th>\n",
              "      <td>0.173763</td>\n",
              "      <td>0.118838</td>\n",
              "    </tr>\n",
              "    <tr>\n",
              "      <th>who_woman</th>\n",
              "      <td>0.014795</td>\n",
              "      <td>0.118838</td>\n",
              "    </tr>\n",
              "    <tr>\n",
              "      <th>4</th>\n",
              "      <th>fare</th>\n",
              "      <td>0.087572</td>\n",
              "      <td>0.087572</td>\n",
              "    </tr>\n",
              "    <tr>\n",
              "      <th rowspan=\"3\" valign=\"top\">3</th>\n",
              "      <th>class_First</th>\n",
              "      <td>0.021415</td>\n",
              "      <td>0.063392</td>\n",
              "    </tr>\n",
              "    <tr>\n",
              "      <th>class_Third</th>\n",
              "      <td>0.073445</td>\n",
              "      <td>0.063392</td>\n",
              "    </tr>\n",
              "    <tr>\n",
              "      <th>pclass</th>\n",
              "      <td>0.095315</td>\n",
              "      <td>0.063392</td>\n",
              "    </tr>\n",
              "    <tr>\n",
              "      <th>8</th>\n",
              "      <th>age</th>\n",
              "      <td>0.045172</td>\n",
              "      <td>0.045172</td>\n",
              "    </tr>\n",
              "    <tr>\n",
              "      <th>11</th>\n",
              "      <th>sibsp</th>\n",
              "      <td>0.029520</td>\n",
              "      <td>0.029520</td>\n",
              "    </tr>\n",
              "    <tr>\n",
              "      <th>15</th>\n",
              "      <th>deck_E</th>\n",
              "      <td>0.008778</td>\n",
              "      <td>0.008778</td>\n",
              "    </tr>\n",
              "    <tr>\n",
              "      <th>13</th>\n",
              "      <th>parch</th>\n",
              "      <td>0.006745</td>\n",
              "      <td>0.006745</td>\n",
              "    </tr>\n",
              "    <tr>\n",
              "      <th>5</th>\n",
              "      <th>class_Second</th>\n",
              "      <td>0.006311</td>\n",
              "      <td>0.006311</td>\n",
              "    </tr>\n",
              "    <tr>\n",
              "      <th rowspan=\"4\" valign=\"top\">2</th>\n",
              "      <th>embark_town_Cherbourg</th>\n",
              "      <td>0.003080</td>\n",
              "      <td>0.004211</td>\n",
              "    </tr>\n",
              "    <tr>\n",
              "      <th>embark_town_Southampton</th>\n",
              "      <td>0.005314</td>\n",
              "      <td>0.004211</td>\n",
              "    </tr>\n",
              "    <tr>\n",
              "      <th>embarked_C</th>\n",
              "      <td>0.002426</td>\n",
              "      <td>0.004211</td>\n",
              "    </tr>\n",
              "    <tr>\n",
              "      <th>embarked_S</th>\n",
              "      <td>0.006024</td>\n",
              "      <td>0.004211</td>\n",
              "    </tr>\n",
              "    <tr>\n",
              "      <th>14</th>\n",
              "      <th>deck_D</th>\n",
              "      <td>0.003622</td>\n",
              "      <td>0.003622</td>\n",
              "    </tr>\n",
              "    <tr>\n",
              "      <th>9</th>\n",
              "      <th>who_child</th>\n",
              "      <td>0.002531</td>\n",
              "      <td>0.002531</td>\n",
              "    </tr>\n",
              "    <tr>\n",
              "      <th>6</th>\n",
              "      <th>deck_C</th>\n",
              "      <td>0.001764</td>\n",
              "      <td>0.001764</td>\n",
              "    </tr>\n",
              "    <tr>\n",
              "      <th>12</th>\n",
              "      <th>alone</th>\n",
              "      <td>0.001595</td>\n",
              "      <td>0.001595</td>\n",
              "    </tr>\n",
              "    <tr>\n",
              "      <th rowspan=\"2\" valign=\"top\">1</th>\n",
              "      <th>embark_town_Queenstown</th>\n",
              "      <td>0.001891</td>\n",
              "      <td>0.001469</td>\n",
              "    </tr>\n",
              "    <tr>\n",
              "      <th>embarked_Q</th>\n",
              "      <td>0.001046</td>\n",
              "      <td>0.001469</td>\n",
              "    </tr>\n",
              "    <tr>\n",
              "      <th>16</th>\n",
              "      <th>deck_A</th>\n",
              "      <td>0.001228</td>\n",
              "      <td>0.001228</td>\n",
              "    </tr>\n",
              "    <tr>\n",
              "      <th>7</th>\n",
              "      <th>deck_B</th>\n",
              "      <td>0.000785</td>\n",
              "      <td>0.000785</td>\n",
              "    </tr>\n",
              "    <tr>\n",
              "      <th>17</th>\n",
              "      <th>deck_F</th>\n",
              "      <td>0.000132</td>\n",
              "      <td>0.000132</td>\n",
              "    </tr>\n",
              "    <tr>\n",
              "      <th>18</th>\n",
              "      <th>deck_G</th>\n",
              "      <td>0.000098</td>\n",
              "      <td>0.000098</td>\n",
              "    </tr>\n",
              "  </tbody>\n",
              "</table>\n",
              "</div>"
            ],
            "text/plain": [
              "                                   weight  mean_weight\n",
              "cluster index                                         \n",
              "10      adult_male               0.212415     0.118838\n",
              "        sex_female               0.090387     0.118838\n",
              "        sex_male                 0.102830     0.118838\n",
              "        who_man                  0.173763     0.118838\n",
              "        who_woman                0.014795     0.118838\n",
              "4       fare                     0.087572     0.087572\n",
              "3       class_First              0.021415     0.063392\n",
              "        class_Third              0.073445     0.063392\n",
              "        pclass                   0.095315     0.063392\n",
              "8       age                      0.045172     0.045172\n",
              "11      sibsp                    0.029520     0.029520\n",
              "15      deck_E                   0.008778     0.008778\n",
              "13      parch                    0.006745     0.006745\n",
              "5       class_Second             0.006311     0.006311\n",
              "2       embark_town_Cherbourg    0.003080     0.004211\n",
              "        embark_town_Southampton  0.005314     0.004211\n",
              "        embarked_C               0.002426     0.004211\n",
              "        embarked_S               0.006024     0.004211\n",
              "14      deck_D                   0.003622     0.003622\n",
              "9       who_child                0.002531     0.002531\n",
              "6       deck_C                   0.001764     0.001764\n",
              "12      alone                    0.001595     0.001595\n",
              "1       embark_town_Queenstown   0.001891     0.001469\n",
              "        embarked_Q               0.001046     0.001469\n",
              "16      deck_A                   0.001228     0.001228\n",
              "7       deck_B                   0.000785     0.000785\n",
              "17      deck_F                   0.000132     0.000132\n",
              "18      deck_G                   0.000098     0.000098"
            ]
          },
          "metadata": {}
        }
      ],
      "execution_count": 8,
      "metadata": {}
    },
    {
      "cell_type": "code",
      "source": [
        "wfct = ficm.reset_index().set_index('index')\n",
        "top_features = wfct.loc[\n",
        "    wfct.groupby('cluster').weight.idxmax()\n",
        "].sort_values('weight', ascending=False)\n",
        "top_features.weight"
      ],
      "outputs": [
        {
          "output_type": "execute_result",
          "execution_count": 9,
          "data": {
            "text/plain": [
              "index\n",
              "adult_male                0.212415\n",
              "pclass                    0.095315\n",
              "fare                      0.087572\n",
              "age                       0.045172\n",
              "sibsp                     0.029520\n",
              "deck_E                    0.008778\n",
              "parch                     0.006745\n",
              "class_Second              0.006311\n",
              "embarked_S                0.006024\n",
              "deck_D                    0.003622\n",
              "who_child                 0.002531\n",
              "embark_town_Queenstown    0.001891\n",
              "deck_C                    0.001764\n",
              "alone                     0.001595\n",
              "deck_A                    0.001228\n",
              "deck_B                    0.000785\n",
              "deck_F                    0.000132\n",
              "deck_G                    0.000098\n",
              "Name: weight, dtype: float64"
            ]
          },
          "metadata": {}
        }
      ],
      "execution_count": 9,
      "metadata": {}
    },
    {
      "cell_type": "code",
      "source": [
        "cl = RandomForestClassifier(n_estimators=300, max_depth=4, max_features=.5, random_state=2)\n",
        "np.mean(cross_val_score(cl, df, target, cv=3))"
      ],
      "outputs": [
        {
          "output_type": "execute_result",
          "execution_count": 15,
          "data": {
            "text/plain": [
              "0.8237934904601572"
            ]
          },
          "metadata": {}
        }
      ],
      "execution_count": 15,
      "metadata": {}
    },
    {
      "cell_type": "code",
      "source": [
        "cl = RandomForestClassifier(n_estimators=300, max_depth=4, max_features=.5, random_state=2)\n",
        "np.mean(cross_val_score(cl, df[top_features.index], target, cv=3))"
      ],
      "outputs": [
        {
          "output_type": "execute_result",
          "execution_count": 16,
          "data": {
            "text/plain": [
              "0.819304152637486"
            ]
          },
          "metadata": {}
        }
      ],
      "execution_count": 16,
      "metadata": {}
    },
    {
      "cell_type": "code",
      "source": [],
      "outputs": [],
      "execution_count": null,
      "metadata": {}
    }
  ],
  "metadata": {
    "kernelspec": {
      "name": "python3",
      "language": "python",
      "display_name": "Python 3"
    },
    "language_info": {
      "name": "python",
      "version": "3.7.3",
      "mimetype": "text/x-python",
      "codemirror_mode": {
        "name": "ipython",
        "version": 3
      },
      "pygments_lexer": "ipython3",
      "nbconvert_exporter": "python",
      "file_extension": ".py"
    },
    "kernel_info": {
      "name": "python3"
    },
    "nteract": {
      "version": "0.15.0"
    }
  },
  "nbformat": 4,
  "nbformat_minor": 2
}