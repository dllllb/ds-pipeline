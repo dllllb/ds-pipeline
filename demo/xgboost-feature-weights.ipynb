{
 "cells": [
  {
   "cell_type": "code",
   "execution_count": 5,
   "metadata": {
    "collapsed": true
   },
   "outputs": [],
   "source": [
    "%run ../dstools/ml/xgboost_tools.py"
   ]
  },
  {
   "cell_type": "code",
   "execution_count": 3,
   "metadata": {
    "collapsed": false
   },
   "outputs": [
    {
     "data": {
      "text/plain": [
       "Pipeline(steps=[('functiontransformer-1', FunctionTransformer(accept_sparse=False,\n",
       "          func=<function <lambda> at 0x10e4289b0>, inv_kw_args=None,\n",
       "          inverse_func=None, kw_args=None, pass_y=False, validate=False)), ('functiontransformer-2', FunctionTransformer(accept_sparse=False,\n",
       "          func=...gistic', reg_alpha=0, reg_lambda=1,\n",
       "       scale_pos_weight=1, seed=0, silent=True, subsample=0.7))])"
      ]
     },
     "execution_count": 3,
     "metadata": {},
     "output_type": "execute_result"
    }
   ],
   "source": [
    "import xgboost as xgb\n",
    "import pandas as pd\n",
    "import numpy as np\n",
    "from sklearn.pipeline import make_pipeline\n",
    "from sklearn.preprocessing import FunctionTransformer, Imputer\n",
    "from sklearn.feature_extraction import DictVectorizer\n",
    "\n",
    "ds = pd.read_csv('../datasets/titanic.csv')\n",
    "features = ds.drop(['survived', 'alive'], axis=1)\n",
    "\n",
    "empty_space = FunctionTransformer(\n",
    "    lambda x: x.replace(r'\\s+', np.nan, regex=True), validate=False)\n",
    "df2dict = FunctionTransformer(\n",
    "    lambda x: x.to_dict(orient='records'), validate=False)\n",
    "\n",
    "cl = xgb.XGBClassifier(\n",
    "    max_depth=4,\n",
    "    subsample=0.7,\n",
    "    colsample_bytree=0.5,\n",
    "    n_estimators=100,\n",
    "    learning_rate=0.4)\n",
    "\n",
    "dv = DictVectorizer(sparse=False)\n",
    "\n",
    "pl = make_pipeline(\n",
    "    empty_space,\n",
    "    df2dict,\n",
    "    dv,\n",
    "    Imputer(strategy='most_frequent'),\n",
    "    cl\n",
    ")\n",
    "\n",
    "pl.fit(features, ds.survived)"
   ]
  },
  {
   "cell_type": "code",
   "execution_count": 4,
   "metadata": {
    "collapsed": false
   },
   "outputs": [
    {
     "data": {
      "text/plain": [
       "age                        285\n",
       "fare                       278\n",
       "sibsp                       45\n",
       "parch                       35\n",
       "adult_male                  30\n",
       "alone                       30\n",
       "embark_town=Southampton     24\n",
       "embark_town=Cherbourg       20\n",
       "who=woman                   19\n",
       "class=Third                 19\n",
       "embark_town=Queenstown      18\n",
       "pclass                      18\n",
       "class=First                 15\n",
       "sex=female                  15\n",
       "embarked=S                  14\n",
       "who=man                     13\n",
       "class=Second                12\n",
       "deck=C                      11\n",
       "deck=E                      10\n",
       "deck=D                       9\n",
       "deck=B                       8\n",
       "sex=male                     8\n",
       "deck=A                       7\n",
       "embarked=Q                   7\n",
       "who=child                    7\n",
       "embarked=C                   5\n",
       "deck=F                       0\n",
       "deck=G                       0\n",
       "deck                         0\n",
       "embark_town                  0\n",
       "embarked                     0\n",
       "dtype: int64"
      ]
     },
     "execution_count": 4,
     "metadata": {},
     "output_type": "execute_result"
    }
   ],
   "source": [
    "xgboost_named_weights(cl.booster().get_fscore(), dv.get_feature_names())"
   ]
  },
  {
   "cell_type": "code",
   "execution_count": null,
   "metadata": {
    "collapsed": true
   },
   "outputs": [],
   "source": []
  }
 ],
 "metadata": {
  "kernelspec": {
   "display_name": "Python [conda env:anaconda3]",
   "language": "python",
   "name": "conda-env-anaconda3-py"
  },
  "language_info": {
   "codemirror_mode": {
    "name": "ipython",
    "version": 3
   },
   "file_extension": ".py",
   "mimetype": "text/x-python",
   "name": "python",
   "nbconvert_exporter": "python",
   "pygments_lexer": "ipython3",
   "version": "3.6.4"
  }
 },
 "nbformat": 4,
 "nbformat_minor": 2
}
