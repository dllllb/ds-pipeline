{
 "cells": [
  {
   "cell_type": "code",
   "execution_count": 2,
   "metadata": {},
   "outputs": [
    {
     "name": "stdout",
     "output_type": "stream",
     "text": [
      "The autoreload extension is already loaded. To reload it, use:\n",
      "  %reload_ext autoreload\n"
     ]
    }
   ],
   "source": [
    "import pandas as pd\n",
    "\n",
    "%load_ext autoreload\n",
    "%autoreload 2\n",
    "\n",
    "import sys\n",
    "import os\n",
    "sys.path.append(os.path.abspath('..'))\n",
    "from category_encoder_comparison import titanic_experiment, beeline_experiment"
   ]
  },
  {
   "cell_type": "code",
   "execution_count": 5,
   "metadata": {},
   "outputs": [],
   "source": [
    "titanic_experiment({\n",
    "    'category_encoding': 'noisy_mean'\n",
    "})"
   ]
  },
  {
   "cell_type": "code",
   "execution_count": 6,
   "metadata": {},
   "outputs": [
    {
     "data": {
      "text/html": [
       "<div>\n",
       "<style scoped>\n",
       "    .dataframe tbody tr th:only-of-type {\n",
       "        vertical-align: middle;\n",
       "    }\n",
       "\n",
       "    .dataframe tbody tr th {\n",
       "        vertical-align: top;\n",
       "    }\n",
       "\n",
       "    .dataframe thead th {\n",
       "        text-align: right;\n",
       "    }\n",
       "</style>\n",
       "<table border=\"1\" class=\"dataframe\">\n",
       "  <thead>\n",
       "    <tr style=\"text-align: right;\">\n",
       "      <th></th>\n",
       "      <th>category_encoding</th>\n",
       "      <th>exec-time-sec</th>\n",
       "      <th>score-mean</th>\n",
       "      <th>score-std</th>\n",
       "    </tr>\n",
       "  </thead>\n",
       "  <tbody>\n",
       "    <tr>\n",
       "      <th>3</th>\n",
       "      <td>empirical_bayes_vibrant</td>\n",
       "      <td>2.04532</td>\n",
       "      <td>0.866682</td>\n",
       "      <td>0.0178235</td>\n",
       "    </tr>\n",
       "    <tr>\n",
       "      <th>0</th>\n",
       "      <td>onehot</td>\n",
       "      <td>0.687949</td>\n",
       "      <td>0.86683</td>\n",
       "      <td>0.02215</td>\n",
       "    </tr>\n",
       "    <tr>\n",
       "      <th>2</th>\n",
       "      <td>empirical_bayes</td>\n",
       "      <td>0.989245</td>\n",
       "      <td>0.867268</td>\n",
       "      <td>0.0264805</td>\n",
       "    </tr>\n",
       "    <tr>\n",
       "      <th>5</th>\n",
       "      <td>noisy_mean</td>\n",
       "      <td>0.67812</td>\n",
       "      <td>0.867468</td>\n",
       "      <td>0.0244902</td>\n",
       "    </tr>\n",
       "    <tr>\n",
       "      <th>4</th>\n",
       "      <td>yandex_mean</td>\n",
       "      <td>0.99721</td>\n",
       "      <td>0.867509</td>\n",
       "      <td>0.026371</td>\n",
       "    </tr>\n",
       "    <tr>\n",
       "      <th>1</th>\n",
       "      <td>count</td>\n",
       "      <td>0.504651</td>\n",
       "      <td>0.867574</td>\n",
       "      <td>0.0229623</td>\n",
       "    </tr>\n",
       "  </tbody>\n",
       "</table>\n",
       "</div>"
      ],
      "text/plain": [
       "         category_encoding exec-time-sec score-mean  score-std\n",
       "3  empirical_bayes_vibrant       2.04532   0.866682  0.0178235\n",
       "0                   onehot      0.687949    0.86683    0.02215\n",
       "2          empirical_bayes      0.989245   0.867268  0.0264805\n",
       "5               noisy_mean       0.67812   0.867468  0.0244902\n",
       "4              yandex_mean       0.99721   0.867509   0.026371\n",
       "1                    count      0.504651   0.867574  0.0229623"
      ]
     },
     "execution_count": 6,
     "metadata": {},
     "output_type": "execute_result"
    }
   ],
   "source": [
    "stats = pd.read_json('titanic.json').sort_values('score-mean')\n",
    "stats.T[stats.nunique() > 1].T"
   ]
  },
  {
   "cell_type": "code",
   "execution_count": 9,
   "metadata": {},
   "outputs": [],
   "source": [
    "beeline_experiment({\n",
    "    'category_encoding': 'noisy_mean'\n",
    "})"
   ]
  },
  {
   "cell_type": "code",
   "execution_count": 10,
   "metadata": {},
   "outputs": [
    {
     "data": {
      "text/html": [
       "<div>\n",
       "<style scoped>\n",
       "    .dataframe tbody tr th:only-of-type {\n",
       "        vertical-align: middle;\n",
       "    }\n",
       "\n",
       "    .dataframe tbody tr th {\n",
       "        vertical-align: top;\n",
       "    }\n",
       "\n",
       "    .dataframe thead th {\n",
       "        text-align: right;\n",
       "    }\n",
       "</style>\n",
       "<table border=\"1\" class=\"dataframe\">\n",
       "  <thead>\n",
       "    <tr style=\"text-align: right;\">\n",
       "      <th></th>\n",
       "      <th>category_encoding</th>\n",
       "      <th>exec-time-sec</th>\n",
       "      <th>score-mean</th>\n",
       "      <th>score-std</th>\n",
       "    </tr>\n",
       "  </thead>\n",
       "  <tbody>\n",
       "    <tr>\n",
       "      <th>1</th>\n",
       "      <td>onehot</td>\n",
       "      <td>49.0752</td>\n",
       "      <td>0.451683</td>\n",
       "      <td>0.0200957</td>\n",
       "    </tr>\n",
       "    <tr>\n",
       "      <th>4</th>\n",
       "      <td>yandex_mean</td>\n",
       "      <td>20.4326</td>\n",
       "      <td>0.5209</td>\n",
       "      <td>0.00292436</td>\n",
       "    </tr>\n",
       "    <tr>\n",
       "      <th>2</th>\n",
       "      <td>empirical_bayes</td>\n",
       "      <td>20.4211</td>\n",
       "      <td>0.524902</td>\n",
       "      <td>0.0057843</td>\n",
       "    </tr>\n",
       "    <tr>\n",
       "      <th>5</th>\n",
       "      <td>noisy_mean</td>\n",
       "      <td>24.7269</td>\n",
       "      <td>0.566999</td>\n",
       "      <td>0.0133952</td>\n",
       "    </tr>\n",
       "    <tr>\n",
       "      <th>3</th>\n",
       "      <td>empirical_bayes_vibrant</td>\n",
       "      <td>1007.79</td>\n",
       "      <td>0.571096</td>\n",
       "      <td>0.00725394</td>\n",
       "    </tr>\n",
       "    <tr>\n",
       "      <th>0</th>\n",
       "      <td>count</td>\n",
       "      <td>13.0555</td>\n",
       "      <td>0.581793</td>\n",
       "      <td>0.0112694</td>\n",
       "    </tr>\n",
       "  </tbody>\n",
       "</table>\n",
       "</div>"
      ],
      "text/plain": [
       "         category_encoding exec-time-sec score-mean   score-std\n",
       "1                   onehot       49.0752   0.451683   0.0200957\n",
       "4              yandex_mean       20.4326     0.5209  0.00292436\n",
       "2          empirical_bayes       20.4211   0.524902   0.0057843\n",
       "5               noisy_mean       24.7269   0.566999   0.0133952\n",
       "3  empirical_bayes_vibrant       1007.79   0.571096  0.00725394\n",
       "0                    count       13.0555   0.581793   0.0112694"
      ]
     },
     "execution_count": 10,
     "metadata": {},
     "output_type": "execute_result"
    }
   ],
   "source": [
    "stats = pd.read_json('beeline.json').sort_values('score-mean')\n",
    "stats.T[stats.nunique() > 1].T"
   ]
  },
  {
   "cell_type": "code",
   "execution_count": null,
   "metadata": {},
   "outputs": [],
   "source": []
  }
 ],
 "metadata": {
  "kernelspec": {
   "display_name": "Python 3",
   "language": "python",
   "name": "python3"
  },
  "language_info": {
   "codemirror_mode": {
    "name": "ipython",
    "version": 3
   },
   "file_extension": ".py",
   "mimetype": "text/x-python",
   "name": "python",
   "nbconvert_exporter": "python",
   "pygments_lexer": "ipython3",
   "version": "3.6.4"
  }
 },
 "nbformat": 4,
 "nbformat_minor": 2
}
